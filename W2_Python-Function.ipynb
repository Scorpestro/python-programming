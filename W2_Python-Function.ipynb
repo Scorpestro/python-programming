{
 "cells": [
  {
   "cell_type": "markdown",
   "metadata": {},
   "source": [
    "# <center> Week 2 - Python Programming - Function </center>\n",
    "## <center> Diwash </center>"
   ]
  },
  {
   "cell_type": "markdown",
   "metadata": {},
   "source": [
    "Questions\n",
    ".Write a function Swap two numbers without using a temporary variable\n",
    ".Write a function Determine if a string is a palindrome(palindrome is if we reverse it has same value)"
   ]
  },
  {
   "cell_type": "code",
   "execution_count": 120,
   "metadata": {},
   "outputs": [
    {
     "name": "stdout",
     "output_type": "stream",
     "text": [
      "3\n"
     ]
    }
   ],
   "source": [
    "def count_vowels(sentence):\n",
    "    vowels='aeiou'\n",
    "    total_vowels= 0\n",
    "    for char in sentence:\n",
    "        if char in vowels:\n",
    "            total_vowels+=1\n",
    "    return total_vowels\n",
    "total_vowels= count_vowels('Hello World')\n",
    "print(total_vowels)\n",
    "\n",
    "\n",
    "    "
   ]
  },
  {
   "cell_type": "code",
   "execution_count": 121,
   "metadata": {},
   "outputs": [
    {
     "data": {
      "text/plain": [
       "True"
      ]
     },
     "execution_count": 121,
     "metadata": {},
     "output_type": "execute_result"
    }
   ],
   "source": [
    "def palindrome(x):\n",
    "    if x==x[::-1]:\n",
    "        return True\n",
    "    return False\n",
    "palindrome(\"ada\")"
   ]
  },
  {
   "cell_type": "code",
   "execution_count": 122,
   "metadata": {},
   "outputs": [
    {
     "name": "stdout",
     "output_type": "stream",
     "text": [
      "(3, 2)\n"
     ]
    }
   ],
   "source": [
    "def swap(a,b):\n",
    "    a=a+b\n",
    "    b=a-b\n",
    "    a=a-b\n",
    "    return (a,b)\n",
    "p=swap(2,3)\n",
    "print(p)"
   ]
  },
  {
   "cell_type": "code",
   "execution_count": 123,
   "metadata": {},
   "outputs": [
    {
     "name": "stdout",
     "output_type": "stream",
     "text": [
      "3 2\n",
      "(3, 2)\n"
     ]
    }
   ],
   "source": [
    "def swap(a,b):\n",
    "    a=a+b\n",
    "    b=a-b\n",
    "    a=a-b\n",
    "    print(a,b)\n",
    "    return a,b\n",
    "p=swap(2,3)\n",
    "print(p)\n",
    "    "
   ]
  },
  {
   "cell_type": "markdown",
   "metadata": {},
   "source": [
    "Lamda function"
   ]
  },
  {
   "cell_type": "code",
   "execution_count": 124,
   "metadata": {},
   "outputs": [
    {
     "name": "stdout",
     "output_type": "stream",
     "text": [
      "16\n"
     ]
    }
   ],
   "source": [
    "square = lambda x:x ** 2\n",
    "print(square(4)) #Output: 16"
   ]
  },
  {
   "cell_type": "markdown",
   "metadata": {},
   "source": [
    "return statement:\n",
    ".functions can return a value using the return statement\n",
    ".if no return statement is provided,the function returns None by default."
   ]
  },
  {
   "cell_type": "code",
   "execution_count": 125,
   "metadata": {},
   "outputs": [
    {
     "name": "stdout",
     "output_type": "stream",
     "text": [
      "1.0\n"
     ]
    }
   ],
   "source": [
    "#write a function that accepts three values (arguments) x,y operation\n",
    "# where x =>int, y->, operation -> string (+,-,*,/)\n",
    "# function should return the output based on the operation\n",
    "# i.e if operation =+ add (x+y)\n",
    "# operation = - substract and so on (x-y)\n",
    "def calc(x,y,op):\n",
    "    if op==\"+\":\n",
    "       a=x+y\n",
    "    elif op==\"-\":\n",
    "        a=x-y\n",
    "    elif op==\"*\":\n",
    "        a=x*y\n",
    "    elif op==\"/\":\n",
    "        if y==0:\n",
    "            a = \"denominator should not be 0\"\n",
    "        else:\n",
    "            a=x/y\n",
    "    else:\n",
    "        a = \"there is error\"\n",
    "    return a\n",
    "n=calc(2,2,\"/\")\n",
    "print(n)\n"
   ]
  },
  {
   "cell_type": "code",
   "execution_count": 126,
   "metadata": {},
   "outputs": [
    {
     "name": "stdout",
     "output_type": "stream",
     "text": [
      "Number is odd\n"
     ]
    }
   ],
   "source": [
    "def is_even_number(number):\n",
    "    if number %2==0:\n",
    "     return 'Number is even'\n",
    "    return 'Number is odd'\n",
    "check_number = is_even_number(5)\n",
    "print(check_number)"
   ]
  },
  {
   "cell_type": "code",
   "execution_count": 127,
   "metadata": {},
   "outputs": [
    {
     "name": "stdout",
     "output_type": "stream",
     "text": [
      "1 2\n",
      "(3, 4, 5, 6)\n",
      "None\n"
     ]
    }
   ],
   "source": [
    "def add(a,b, *args):\n",
    "    print(a,b)\n",
    "    print(args)\n",
    "    \n",
    "a = add(1,2,3,4,5,6)\n",
    "print(a)"
   ]
  },
  {
   "cell_type": "code",
   "execution_count": 128,
   "metadata": {},
   "outputs": [
    {
     "name": "stdout",
     "output_type": "stream",
     "text": [
      "Hello,Hari!\n",
      "8\n"
     ]
    }
   ],
   "source": [
    "def greet(name=\"World\"):\n",
    "    print(f\"Hello,{name}!\")\n",
    "greet(\"Hari\")\n",
    "def sum(a=0,b=0):\n",
    "    return a+b\n",
    "print(sum(a=5,b=3))"
   ]
  },
  {
   "cell_type": "code",
   "execution_count": 129,
   "metadata": {},
   "outputs": [
    {
     "name": "stdout",
     "output_type": "stream",
     "text": [
      "3\n"
     ]
    }
   ],
   "source": [
    "def add(x,y):\n",
    "    sum = x+y\n",
    "result = add(3,5)\n",
    "print(sum(b=3))"
   ]
  },
  {
   "cell_type": "markdown",
   "metadata": {},
   "source": [
    "### For Loop\n",
    "#### Iterate over list, range (enumerator)"
   ]
  },
  {
   "cell_type": "code",
   "execution_count": 130,
   "metadata": {},
   "outputs": [
    {
     "name": "stdout",
     "output_type": "stream",
     "text": [
      "1\n",
      "2\n",
      "3\n",
      "4\n",
      "5\n"
     ]
    }
   ],
   "source": [
    "numbers = [1,2,3,4,5] # list of int\n",
    "\n",
    "#count = 0\n",
    "# hile counter<len(numbers):\n",
    "#    print(numbers[counter])\n",
    "#    counter += 1\n",
    "\n",
    "for num in numbers:\n",
    "    print(num)"
   ]
  },
  {
   "cell_type": "code",
   "execution_count": 131,
   "metadata": {},
   "outputs": [
    {
     "ename": "IndexError",
     "evalue": "list index out of range",
     "output_type": "error",
     "traceback": [
      "\u001b[1;31m---------------------------------------------------------------------------\u001b[0m",
      "\u001b[1;31mIndexError\u001b[0m                                Traceback (most recent call last)",
      "Cell \u001b[1;32mIn[131], line 8\u001b[0m\n\u001b[0;32m      6\u001b[0m \u001b[38;5;28;01mif\u001b[39;00m i\u001b[38;5;241m%\u001b[39m\u001b[38;5;241m2\u001b[39m\u001b[38;5;241m==\u001b[39m\u001b[38;5;241m0\u001b[39m:\n\u001b[0;32m      7\u001b[0m     new\u001b[38;5;241m.\u001b[39mappend(i)\n\u001b[1;32m----> 8\u001b[0m     \u001b[38;5;28mprint\u001b[39m(\u001b[43mnew\u001b[49m\u001b[43m[\u001b[49m\u001b[43mi\u001b[49m\u001b[43m]\u001b[49m)\n",
      "\u001b[1;31mIndexError\u001b[0m: list index out of range"
     ]
    }
   ],
   "source": [
    "# create a new list of even numbers from the given list\n",
    "num = [1,2,3,4,5,2,11,100]\n",
    "new = []\n",
    "\n",
    "for i in num:\n",
    "    if i%2==0:\n",
    "        new.append(i)\n",
    "        print(new[i])\n",
    "\n",
    "    \n",
    "\n"
   ]
  },
  {
   "cell_type": "code",
   "execution_count": 11,
   "metadata": {},
   "outputs": [
    {
     "name": "stdout",
     "output_type": "stream",
     "text": [
      "[1, 2, 3, 4, 5, 11, 100]\n"
     ]
    }
   ],
   "source": [
    "num =[1,1,2,3,4,5,3,11,100]\n",
    "\n",
    "# create new list by removing duplicate items from given list\n",
    "\n",
    "unique_num = []\n",
    "\n",
    "for i in num:\n",
    "    if i not in unique_num:\n",
    "        unique_num.append(i)\n",
    "\n",
    "print(unique_num)\n"
   ]
  },
  {
   "cell_type": "markdown",
   "metadata": {},
   "source": [
    "## Range(start,stop,step)"
   ]
  },
  {
   "cell_type": "code",
   "execution_count": 19,
   "metadata": {},
   "outputs": [
    {
     "name": "stdout",
     "output_type": "stream",
     "text": [
      "1\n",
      "3\n",
      "5\n",
      "7\n",
      "9\n"
     ]
    }
   ],
   "source": [
    "range_of_100 = range(1,10) # for i=0;i<10;i++ in c\n",
    "\n",
    "sum=0\n",
    "for i in range(1,10,2):\n",
    "    print(i)\n",
    "    sum+=i"
   ]
  },
  {
   "cell_type": "markdown",
   "metadata": {},
   "source": [
    "## Inline for loop"
   ]
  },
  {
   "cell_type": "code",
   "execution_count": 27,
   "metadata": {},
   "outputs": [
    {
     "name": "stdout",
     "output_type": "stream",
     "text": [
      "[2, 4, 6, 88]\n"
     ]
    }
   ],
   "source": [
    "num = [1,2,3,4,5,6,88,19]\n",
    "list_of_even_num = [i for i in num if i%2==0]\n",
    "new_list = [i*100 for i in num]\n",
    "\n",
    "\n",
    "print(list_of_even_num)"
   ]
  },
  {
   "cell_type": "code",
   "execution_count": 25,
   "metadata": {},
   "outputs": [
    {
     "name": "stdout",
     "output_type": "stream",
     "text": [
      "[1, 200, 3, 400, 5, 600, 7, 800, 9]\n"
     ]
    }
   ],
   "source": [
    "numbers = [1,2,3,4,5,6,7,8,9]\n",
    "transformed_list = [(num *100 if num%2==0 else num) for num in numbers]\n",
    "print(transformed_list)"
   ]
  },
  {
   "cell_type": "markdown",
   "metadata": {},
   "source": [
    "Function"
   ]
  },
  {
   "cell_type": "code",
   "execution_count": 39,
   "metadata": {},
   "outputs": [
    {
     "name": "stdout",
     "output_type": "stream",
     "text": [
      "6\n",
      "20\n",
      "69\n"
     ]
    }
   ],
   "source": [
    "def add(x,y):\n",
    "    sum = x+y\n",
    "    return sum\n",
    "def sub(x,y):\n",
    "    diff = x-y\n",
    "    return diff\n",
    "def product(x,y):\n",
    "    mul = x*y\n",
    "    return mul\n",
    "product_num = product(x=2,y=3)\n",
    "sum_of_two_num = add(x=33,y=36)\n",
    "sub_of_two_num = sub(x=40,y=20)\n",
    "\n",
    "print(product_num)\n",
    "print(sub_of_two_num)\n",
    "print(sum_of_two_num)"
   ]
  },
  {
   "cell_type": "markdown",
   "metadata": {},
   "source": []
  }
 ],
 "metadata": {
  "kernelspec": {
   "display_name": "Python 3",
   "language": "python",
   "name": "python3"
  },
  "language_info": {
   "codemirror_mode": {
    "name": "ipython",
    "version": 3
   },
   "file_extension": ".py",
   "mimetype": "text/x-python",
   "name": "python",
   "nbconvert_exporter": "python",
   "pygments_lexer": "ipython3",
   "version": "3.11.2"
  }
 },
 "nbformat": 4,
 "nbformat_minor": 2
}
